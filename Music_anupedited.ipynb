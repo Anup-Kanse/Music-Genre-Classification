{
  "nbformat": 4,
  "nbformat_minor": 0,
  "metadata": {
    "colab": {
      "name": "Music .ipynb",
      "provenance": [],
      "authorship_tag": "ABX9TyOGOegIRBMP3phEiK/SV/Fk",
      "include_colab_link": true
    },
    "kernelspec": {
      "name": "python3",
      "display_name": "Python 3"
    },
    "language_info": {
      "name": "python"
    }
  },
  "cells": [
    {
      "cell_type": "markdown",
      "metadata": {
        "id": "view-in-github",
        "colab_type": "text"
      },
      "source": [
        "<a href=\"https://colab.research.google.com/github/Anup-Kanse/Music-Genre-Classification/blob/main/Music_anupedited.ipynb\" target=\"_parent\"><img src=\"https://colab.research.google.com/assets/colab-badge.svg\" alt=\"Open In Colab\"/></a>"
      ]
    },
    {
      "cell_type": "markdown",
      "metadata": {
        "id": "1bTb0ur7SMpw"
      },
      "source": [
        "Importing necessary libraries"
      ]
    },
    {
      "cell_type": "code",
      "metadata": {
        "id": "ZN5sI0SRRmyJ"
      },
      "source": [
        "import numpy as np\n",
        "import pandas as pd\n",
        "import matplotlib.pyplot as plt\n",
        "import seaborn as sns"
      ],
      "execution_count": 3,
      "outputs": []
    },
    {
      "cell_type": "markdown",
      "metadata": {
        "id": "JiE_8vPqTWTl"
      },
      "source": [
        "Data preprocessing"
      ]
    },
    {
      "cell_type": "code",
      "metadata": {
        "id": "l0gOeMZ0TF7N"
      },
      "source": [
        "df=pd.read_csv(\"Music Genre Internship Data.csv\")"
      ],
      "execution_count": 4,
      "outputs": []
    },
    {
      "cell_type": "code",
      "metadata": {
        "colab": {
          "base_uri": "https://localhost:8080/",
          "height": 391
        },
        "id": "YaafI3i7TpfP",
        "outputId": "c8d8ef4d-c868-498c-9349-035d0539be47"
      },
      "source": [
        "df.head()"
      ],
      "execution_count": 5,
      "outputs": [
        {
          "output_type": "execute_result",
          "data": {
            "text/html": [
              "<div>\n",
              "<style scoped>\n",
              "    .dataframe tbody tr th:only-of-type {\n",
              "        vertical-align: middle;\n",
              "    }\n",
              "\n",
              "    .dataframe tbody tr th {\n",
              "        vertical-align: top;\n",
              "    }\n",
              "\n",
              "    .dataframe thead th {\n",
              "        text-align: right;\n",
              "    }\n",
              "</style>\n",
              "<table border=\"1\" class=\"dataframe\">\n",
              "  <thead>\n",
              "    <tr style=\"text-align: right;\">\n",
              "      <th></th>\n",
              "      <th>Artist Name</th>\n",
              "      <th>Track Name</th>\n",
              "      <th>Popularity</th>\n",
              "      <th>danceability</th>\n",
              "      <th>energy</th>\n",
              "      <th>key</th>\n",
              "      <th>loudness</th>\n",
              "      <th>mode</th>\n",
              "      <th>speechiness</th>\n",
              "      <th>acousticness</th>\n",
              "      <th>instrumentalness</th>\n",
              "      <th>liveness</th>\n",
              "      <th>valence</th>\n",
              "      <th>tempo</th>\n",
              "      <th>duration_in min/ms</th>\n",
              "      <th>time_signature</th>\n",
              "    </tr>\n",
              "  </thead>\n",
              "  <tbody>\n",
              "    <tr>\n",
              "      <th>0</th>\n",
              "      <td>Bruno Mars</td>\n",
              "      <td>That's What I Like (feat. Gucci Mane)</td>\n",
              "      <td>60.0</td>\n",
              "      <td>0.854</td>\n",
              "      <td>0.564</td>\n",
              "      <td>1.0</td>\n",
              "      <td>-4.964</td>\n",
              "      <td>1</td>\n",
              "      <td>0.0485</td>\n",
              "      <td>0.017100</td>\n",
              "      <td>NaN</td>\n",
              "      <td>0.0849</td>\n",
              "      <td>0.8990</td>\n",
              "      <td>134.071</td>\n",
              "      <td>234596.0</td>\n",
              "      <td>4</td>\n",
              "    </tr>\n",
              "    <tr>\n",
              "      <th>1</th>\n",
              "      <td>Boston</td>\n",
              "      <td>Hitch a Ride</td>\n",
              "      <td>54.0</td>\n",
              "      <td>0.382</td>\n",
              "      <td>0.814</td>\n",
              "      <td>3.0</td>\n",
              "      <td>-7.230</td>\n",
              "      <td>1</td>\n",
              "      <td>0.0406</td>\n",
              "      <td>0.001100</td>\n",
              "      <td>0.004010</td>\n",
              "      <td>0.1010</td>\n",
              "      <td>0.5690</td>\n",
              "      <td>116.454</td>\n",
              "      <td>251733.0</td>\n",
              "      <td>4</td>\n",
              "    </tr>\n",
              "    <tr>\n",
              "      <th>2</th>\n",
              "      <td>The Raincoats</td>\n",
              "      <td>No Side to Fall In</td>\n",
              "      <td>35.0</td>\n",
              "      <td>0.434</td>\n",
              "      <td>0.614</td>\n",
              "      <td>6.0</td>\n",
              "      <td>-8.334</td>\n",
              "      <td>1</td>\n",
              "      <td>0.0525</td>\n",
              "      <td>0.486000</td>\n",
              "      <td>0.000196</td>\n",
              "      <td>0.3940</td>\n",
              "      <td>0.7870</td>\n",
              "      <td>147.681</td>\n",
              "      <td>109667.0</td>\n",
              "      <td>4</td>\n",
              "    </tr>\n",
              "    <tr>\n",
              "      <th>3</th>\n",
              "      <td>Deno</td>\n",
              "      <td>Lingo (feat. J.I &amp; Chunkz)</td>\n",
              "      <td>66.0</td>\n",
              "      <td>0.853</td>\n",
              "      <td>0.597</td>\n",
              "      <td>10.0</td>\n",
              "      <td>-6.528</td>\n",
              "      <td>0</td>\n",
              "      <td>0.0555</td>\n",
              "      <td>0.021200</td>\n",
              "      <td>NaN</td>\n",
              "      <td>0.1220</td>\n",
              "      <td>0.5690</td>\n",
              "      <td>107.033</td>\n",
              "      <td>173968.0</td>\n",
              "      <td>4</td>\n",
              "    </tr>\n",
              "    <tr>\n",
              "      <th>4</th>\n",
              "      <td>Red Hot Chili Peppers</td>\n",
              "      <td>Nobody Weird Like Me - Remastered</td>\n",
              "      <td>53.0</td>\n",
              "      <td>0.167</td>\n",
              "      <td>0.975</td>\n",
              "      <td>2.0</td>\n",
              "      <td>-4.279</td>\n",
              "      <td>1</td>\n",
              "      <td>0.2160</td>\n",
              "      <td>0.000169</td>\n",
              "      <td>0.016100</td>\n",
              "      <td>0.1720</td>\n",
              "      <td>0.0918</td>\n",
              "      <td>199.060</td>\n",
              "      <td>229960.0</td>\n",
              "      <td>4</td>\n",
              "    </tr>\n",
              "  </tbody>\n",
              "</table>\n",
              "</div>"
            ],
            "text/plain": [
              "             Artist Name  ... time_signature\n",
              "0             Bruno Mars  ...              4\n",
              "1                 Boston  ...              4\n",
              "2          The Raincoats  ...              4\n",
              "3                   Deno  ...              4\n",
              "4  Red Hot Chili Peppers  ...              4\n",
              "\n",
              "[5 rows x 16 columns]"
            ]
          },
          "metadata": {},
          "execution_count": 5
        }
      ]
    },
    {
      "cell_type": "code",
      "metadata": {
        "colab": {
          "base_uri": "https://localhost:8080/",
          "height": 374
        },
        "id": "U7euVR-8TxRe",
        "outputId": "01dd8380-8656-40f4-e97e-52139fe108dc"
      },
      "source": [
        "df.tail()"
      ],
      "execution_count": 6,
      "outputs": [
        {
          "output_type": "execute_result",
          "data": {
            "text/html": [
              "<div>\n",
              "<style scoped>\n",
              "    .dataframe tbody tr th:only-of-type {\n",
              "        vertical-align: middle;\n",
              "    }\n",
              "\n",
              "    .dataframe tbody tr th {\n",
              "        vertical-align: top;\n",
              "    }\n",
              "\n",
              "    .dataframe thead th {\n",
              "        text-align: right;\n",
              "    }\n",
              "</style>\n",
              "<table border=\"1\" class=\"dataframe\">\n",
              "  <thead>\n",
              "    <tr style=\"text-align: right;\">\n",
              "      <th></th>\n",
              "      <th>Artist Name</th>\n",
              "      <th>Track Name</th>\n",
              "      <th>Popularity</th>\n",
              "      <th>danceability</th>\n",
              "      <th>energy</th>\n",
              "      <th>key</th>\n",
              "      <th>loudness</th>\n",
              "      <th>mode</th>\n",
              "      <th>speechiness</th>\n",
              "      <th>acousticness</th>\n",
              "      <th>instrumentalness</th>\n",
              "      <th>liveness</th>\n",
              "      <th>valence</th>\n",
              "      <th>tempo</th>\n",
              "      <th>duration_in min/ms</th>\n",
              "      <th>time_signature</th>\n",
              "    </tr>\n",
              "  </thead>\n",
              "  <tbody>\n",
              "    <tr>\n",
              "      <th>25704</th>\n",
              "      <td>Dudu Aharon</td>\n",
              "      <td>◊ë◊ó◊ï◊® ◊®◊í◊ô◊©</td>\n",
              "      <td>28.0</td>\n",
              "      <td>0.816</td>\n",
              "      <td>0.927</td>\n",
              "      <td>7.0</td>\n",
              "      <td>-1.581</td>\n",
              "      <td>1</td>\n",
              "      <td>0.0600</td>\n",
              "      <td>0.2640</td>\n",
              "      <td>NaN</td>\n",
              "      <td>0.0735</td>\n",
              "      <td>0.643</td>\n",
              "      <td>128.019</td>\n",
              "      <td>231680.00000</td>\n",
              "      <td>4</td>\n",
              "    </tr>\n",
              "    <tr>\n",
              "      <th>25705</th>\n",
              "      <td>Elephant Tree</td>\n",
              "      <td>Echoes</td>\n",
              "      <td>45.0</td>\n",
              "      <td>0.429</td>\n",
              "      <td>0.599</td>\n",
              "      <td>7.0</td>\n",
              "      <td>-7.236</td>\n",
              "      <td>0</td>\n",
              "      <td>0.0363</td>\n",
              "      <td>0.0254</td>\n",
              "      <td>0.009330</td>\n",
              "      <td>0.3620</td>\n",
              "      <td>0.257</td>\n",
              "      <td>127.446</td>\n",
              "      <td>367879.00000</td>\n",
              "      <td>4</td>\n",
              "    </tr>\n",
              "    <tr>\n",
              "      <th>25706</th>\n",
              "      <td>Shankar Mahadevan</td>\n",
              "      <td>Man Mohini</td>\n",
              "      <td>38.0</td>\n",
              "      <td>0.805</td>\n",
              "      <td>0.905</td>\n",
              "      <td>6.0</td>\n",
              "      <td>-7.222</td>\n",
              "      <td>0</td>\n",
              "      <td>0.2750</td>\n",
              "      <td>0.1590</td>\n",
              "      <td>0.000011</td>\n",
              "      <td>0.0590</td>\n",
              "      <td>0.691</td>\n",
              "      <td>135.224</td>\n",
              "      <td>2.45355</td>\n",
              "      <td>4</td>\n",
              "    </tr>\n",
              "    <tr>\n",
              "      <th>25707</th>\n",
              "      <td>Talking Heads</td>\n",
              "      <td>Life During Wartime - 2005 Remaster</td>\n",
              "      <td>51.0</td>\n",
              "      <td>0.801</td>\n",
              "      <td>0.930</td>\n",
              "      <td>9.0</td>\n",
              "      <td>-7.365</td>\n",
              "      <td>1</td>\n",
              "      <td>0.0354</td>\n",
              "      <td>0.0806</td>\n",
              "      <td>0.152000</td>\n",
              "      <td>0.0558</td>\n",
              "      <td>0.967</td>\n",
              "      <td>133.255</td>\n",
              "      <td>221320.00000</td>\n",
              "      <td>4</td>\n",
              "    </tr>\n",
              "    <tr>\n",
              "      <th>25708</th>\n",
              "      <td>Marlon Craft</td>\n",
              "      <td>Lot To Give</td>\n",
              "      <td>45.0</td>\n",
              "      <td>0.630</td>\n",
              "      <td>0.867</td>\n",
              "      <td>10.0</td>\n",
              "      <td>-4.393</td>\n",
              "      <td>0</td>\n",
              "      <td>0.3150</td>\n",
              "      <td>0.1690</td>\n",
              "      <td>NaN</td>\n",
              "      <td>0.0975</td>\n",
              "      <td>0.557</td>\n",
              "      <td>156.017</td>\n",
              "      <td>199922.00000</td>\n",
              "      <td>4</td>\n",
              "    </tr>\n",
              "  </tbody>\n",
              "</table>\n",
              "</div>"
            ],
            "text/plain": [
              "             Artist Name  ... time_signature\n",
              "25704        Dudu Aharon  ...              4\n",
              "25705      Elephant Tree  ...              4\n",
              "25706  Shankar Mahadevan  ...              4\n",
              "25707      Talking Heads  ...              4\n",
              "25708       Marlon Craft  ...              4\n",
              "\n",
              "[5 rows x 16 columns]"
            ]
          },
          "metadata": {},
          "execution_count": 6
        }
      ]
    },
    {
      "cell_type": "code",
      "metadata": {
        "colab": {
          "base_uri": "https://localhost:8080/"
        },
        "id": "9v9STjBeUVTX",
        "outputId": "e64fcf93-5a44-4941-e404-766b7d5674c2"
      },
      "source": [
        "df.shape"
      ],
      "execution_count": 7,
      "outputs": [
        {
          "output_type": "execute_result",
          "data": {
            "text/plain": [
              "(25709, 16)"
            ]
          },
          "metadata": {},
          "execution_count": 7
        }
      ]
    },
    {
      "cell_type": "code",
      "metadata": {
        "colab": {
          "base_uri": "https://localhost:8080/"
        },
        "id": "xwFGoVIzUccd",
        "outputId": "1828e2a8-abb5-498d-c435-251dabf7d7c5"
      },
      "source": [
        "df.size"
      ],
      "execution_count": 8,
      "outputs": [
        {
          "output_type": "execute_result",
          "data": {
            "text/plain": [
              "411344"
            ]
          },
          "metadata": {},
          "execution_count": 8
        }
      ]
    },
    {
      "cell_type": "code",
      "metadata": {
        "colab": {
          "base_uri": "https://localhost:8080/"
        },
        "id": "O6WVsPd1U0gO",
        "outputId": "d60abb95-a99b-46cc-f14e-8b5083aeaefe"
      },
      "source": [
        "df.info()"
      ],
      "execution_count": 9,
      "outputs": [
        {
          "output_type": "stream",
          "name": "stdout",
          "text": [
            "<class 'pandas.core.frame.DataFrame'>\n",
            "RangeIndex: 25709 entries, 0 to 25708\n",
            "Data columns (total 16 columns):\n",
            " #   Column              Non-Null Count  Dtype  \n",
            "---  ------              --------------  -----  \n",
            " 0   Artist Name         25709 non-null  object \n",
            " 1   Track Name          25709 non-null  object \n",
            " 2   Popularity          25054 non-null  float64\n",
            " 3   danceability        25709 non-null  float64\n",
            " 4   energy              25709 non-null  float64\n",
            " 5   key                 22887 non-null  float64\n",
            " 6   loudness            25709 non-null  float64\n",
            " 7   mode                25709 non-null  int64  \n",
            " 8   speechiness         25709 non-null  float64\n",
            " 9   acousticness        25709 non-null  float64\n",
            " 10  instrumentalness    19423 non-null  float64\n",
            " 11  liveness            25709 non-null  float64\n",
            " 12  valence             25709 non-null  float64\n",
            " 13  tempo               25709 non-null  float64\n",
            " 14  duration_in min/ms  25709 non-null  float64\n",
            " 15  time_signature      25709 non-null  int64  \n",
            "dtypes: float64(12), int64(2), object(2)\n",
            "memory usage: 3.1+ MB\n"
          ]
        }
      ]
    },
    {
      "cell_type": "markdown",
      "metadata": {
        "id": "JMQ4IRmvYSC5"
      },
      "source": [
        "Data Types"
      ]
    },
    {
      "cell_type": "code",
      "metadata": {
        "colab": {
          "base_uri": "https://localhost:8080/"
        },
        "id": "lXcBk6L_U_09",
        "outputId": "da0d2ebe-5dc6-4dfd-b4fe-255258806364"
      },
      "source": [
        "df.dtypes"
      ],
      "execution_count": 10,
      "outputs": [
        {
          "output_type": "execute_result",
          "data": {
            "text/plain": [
              "Artist Name            object\n",
              "Track Name             object\n",
              "Popularity            float64\n",
              "danceability          float64\n",
              "energy                float64\n",
              "key                   float64\n",
              "loudness              float64\n",
              "mode                    int64\n",
              "speechiness           float64\n",
              "acousticness          float64\n",
              "instrumentalness      float64\n",
              "liveness              float64\n",
              "valence               float64\n",
              "tempo                 float64\n",
              "duration_in min/ms    float64\n",
              "time_signature          int64\n",
              "dtype: object"
            ]
          },
          "metadata": {},
          "execution_count": 10
        }
      ]
    },
    {
      "cell_type": "code",
      "metadata": {
        "colab": {
          "base_uri": "https://localhost:8080/"
        },
        "id": "-bc2Fhq9VIx_",
        "outputId": "0d97ca99-1c9a-4d2b-8ec7-30789ef756b7"
      },
      "source": [
        "df.isnull().sum()"
      ],
      "execution_count": 11,
      "outputs": [
        {
          "output_type": "execute_result",
          "data": {
            "text/plain": [
              "Artist Name              0\n",
              "Track Name               0\n",
              "Popularity             655\n",
              "danceability             0\n",
              "energy                   0\n",
              "key                   2822\n",
              "loudness                 0\n",
              "mode                     0\n",
              "speechiness              0\n",
              "acousticness             0\n",
              "instrumentalness      6286\n",
              "liveness                 0\n",
              "valence                  0\n",
              "tempo                    0\n",
              "duration_in min/ms       0\n",
              "time_signature           0\n",
              "dtype: int64"
            ]
          },
          "metadata": {},
          "execution_count": 11
        }
      ]
    },
    {
      "cell_type": "markdown",
      "metadata": {
        "id": "Ya1_B06BX734"
      },
      "source": [
        "Replacing Null Values with Zeros"
      ]
    },
    {
      "cell_type": "code",
      "metadata": {
        "id": "HuQPVlODWIM6"
      },
      "source": [
        "data=df.fillna(0)"
      ],
      "execution_count": 12,
      "outputs": []
    },
    {
      "cell_type": "code",
      "metadata": {
        "colab": {
          "base_uri": "https://localhost:8080/"
        },
        "id": "i6aWYgaRXIez",
        "outputId": "21f6736f-245d-4205-d818-61177698d93c"
      },
      "source": [
        "data.isnull().sum()"
      ],
      "execution_count": 13,
      "outputs": [
        {
          "output_type": "execute_result",
          "data": {
            "text/plain": [
              "Artist Name           0\n",
              "Track Name            0\n",
              "Popularity            0\n",
              "danceability          0\n",
              "energy                0\n",
              "key                   0\n",
              "loudness              0\n",
              "mode                  0\n",
              "speechiness           0\n",
              "acousticness          0\n",
              "instrumentalness      0\n",
              "liveness              0\n",
              "valence               0\n",
              "tempo                 0\n",
              "duration_in min/ms    0\n",
              "time_signature        0\n",
              "dtype: int64"
            ]
          },
          "metadata": {},
          "execution_count": 13
        }
      ]
    },
    {
      "cell_type": "markdown",
      "metadata": {
        "id": "PsYRqehfYLtP"
      },
      "source": [
        "All columns"
      ]
    },
    {
      "cell_type": "code",
      "metadata": {
        "colab": {
          "base_uri": "https://localhost:8080/"
        },
        "id": "NqQGFTV3XWtW",
        "outputId": "8d243fe5-e3b4-4591-c759-d478f2e31bcf"
      },
      "source": [
        "df.columns"
      ],
      "execution_count": 14,
      "outputs": [
        {
          "output_type": "execute_result",
          "data": {
            "text/plain": [
              "Index(['Artist Name', 'Track Name', 'Popularity', 'danceability', 'energy',\n",
              "       'key', 'loudness', 'mode', 'speechiness', 'acousticness',\n",
              "       'instrumentalness', 'liveness', 'valence', 'tempo',\n",
              "       'duration_in min/ms', 'time_signature'],\n",
              "      dtype='object')"
            ]
          },
          "metadata": {},
          "execution_count": 14
        }
      ]
    },
    {
      "cell_type": "code",
      "metadata": {
        "colab": {
          "base_uri": "https://localhost:8080/",
          "height": 332
        },
        "id": "MhEPqd42XcAn",
        "outputId": "6871453a-3e56-49f7-eed3-91b1d485c15d"
      },
      "source": [
        "df.describe()"
      ],
      "execution_count": 15,
      "outputs": [
        {
          "output_type": "execute_result",
          "data": {
            "text/html": [
              "<div>\n",
              "<style scoped>\n",
              "    .dataframe tbody tr th:only-of-type {\n",
              "        vertical-align: middle;\n",
              "    }\n",
              "\n",
              "    .dataframe tbody tr th {\n",
              "        vertical-align: top;\n",
              "    }\n",
              "\n",
              "    .dataframe thead th {\n",
              "        text-align: right;\n",
              "    }\n",
              "</style>\n",
              "<table border=\"1\" class=\"dataframe\">\n",
              "  <thead>\n",
              "    <tr style=\"text-align: right;\">\n",
              "      <th></th>\n",
              "      <th>Popularity</th>\n",
              "      <th>danceability</th>\n",
              "      <th>energy</th>\n",
              "      <th>key</th>\n",
              "      <th>loudness</th>\n",
              "      <th>mode</th>\n",
              "      <th>speechiness</th>\n",
              "      <th>acousticness</th>\n",
              "      <th>instrumentalness</th>\n",
              "      <th>liveness</th>\n",
              "      <th>valence</th>\n",
              "      <th>tempo</th>\n",
              "      <th>duration_in min/ms</th>\n",
              "      <th>time_signature</th>\n",
              "    </tr>\n",
              "  </thead>\n",
              "  <tbody>\n",
              "    <tr>\n",
              "      <th>count</th>\n",
              "      <td>25054.000000</td>\n",
              "      <td>25709.000000</td>\n",
              "      <td>25709.000000</td>\n",
              "      <td>22887.000000</td>\n",
              "      <td>25709.000000</td>\n",
              "      <td>25709.00000</td>\n",
              "      <td>25709.000000</td>\n",
              "      <td>25709.000000</td>\n",
              "      <td>19423.000000</td>\n",
              "      <td>25709.000000</td>\n",
              "      <td>25709.000000</td>\n",
              "      <td>25709.000000</td>\n",
              "      <td>2.570900e+04</td>\n",
              "      <td>25709.000000</td>\n",
              "    </tr>\n",
              "    <tr>\n",
              "      <th>mean</th>\n",
              "      <td>44.648360</td>\n",
              "      <td>0.544836</td>\n",
              "      <td>0.662983</td>\n",
              "      <td>5.944073</td>\n",
              "      <td>-7.889399</td>\n",
              "      <td>0.63962</td>\n",
              "      <td>0.079810</td>\n",
              "      <td>0.245377</td>\n",
              "      <td>0.175318</td>\n",
              "      <td>0.196818</td>\n",
              "      <td>0.487282</td>\n",
              "      <td>122.729307</td>\n",
              "      <td>2.003485e+05</td>\n",
              "      <td>3.922245</td>\n",
              "    </tr>\n",
              "    <tr>\n",
              "      <th>std</th>\n",
              "      <td>17.420299</td>\n",
              "      <td>0.165872</td>\n",
              "      <td>0.235204</td>\n",
              "      <td>3.209502</td>\n",
              "      <td>4.029862</td>\n",
              "      <td>0.48012</td>\n",
              "      <td>0.083771</td>\n",
              "      <td>0.309852</td>\n",
              "      <td>0.302269</td>\n",
              "      <td>0.159871</td>\n",
              "      <td>0.239539</td>\n",
              "      <td>29.617081</td>\n",
              "      <td>1.123260e+05</td>\n",
              "      <td>0.364073</td>\n",
              "    </tr>\n",
              "    <tr>\n",
              "      <th>min</th>\n",
              "      <td>1.000000</td>\n",
              "      <td>0.000000</td>\n",
              "      <td>0.000020</td>\n",
              "      <td>1.000000</td>\n",
              "      <td>-39.952000</td>\n",
              "      <td>0.00000</td>\n",
              "      <td>0.000000</td>\n",
              "      <td>0.000000</td>\n",
              "      <td>0.000001</td>\n",
              "      <td>0.011900</td>\n",
              "      <td>0.000000</td>\n",
              "      <td>0.000000</td>\n",
              "      <td>5.016500e-01</td>\n",
              "      <td>0.000000</td>\n",
              "    </tr>\n",
              "    <tr>\n",
              "      <th>25%</th>\n",
              "      <td>33.000000</td>\n",
              "      <td>0.434000</td>\n",
              "      <td>0.509000</td>\n",
              "      <td>3.000000</td>\n",
              "      <td>-9.532000</td>\n",
              "      <td>0.00000</td>\n",
              "      <td>0.034800</td>\n",
              "      <td>0.004370</td>\n",
              "      <td>0.000089</td>\n",
              "      <td>0.097700</td>\n",
              "      <td>0.300000</td>\n",
              "      <td>99.633000</td>\n",
              "      <td>1.660920e+05</td>\n",
              "      <td>4.000000</td>\n",
              "    </tr>\n",
              "    <tr>\n",
              "      <th>50%</th>\n",
              "      <td>44.000000</td>\n",
              "      <td>0.546000</td>\n",
              "      <td>0.700000</td>\n",
              "      <td>6.000000</td>\n",
              "      <td>-6.988000</td>\n",
              "      <td>1.00000</td>\n",
              "      <td>0.047300</td>\n",
              "      <td>0.079800</td>\n",
              "      <td>0.003950</td>\n",
              "      <td>0.130000</td>\n",
              "      <td>0.482000</td>\n",
              "      <td>120.259000</td>\n",
              "      <td>2.090710e+05</td>\n",
              "      <td>4.000000</td>\n",
              "    </tr>\n",
              "    <tr>\n",
              "      <th>75%</th>\n",
              "      <td>56.000000</td>\n",
              "      <td>0.660000</td>\n",
              "      <td>0.861000</td>\n",
              "      <td>9.000000</td>\n",
              "      <td>-5.188000</td>\n",
              "      <td>1.00000</td>\n",
              "      <td>0.083100</td>\n",
              "      <td>0.425000</td>\n",
              "      <td>0.188000</td>\n",
              "      <td>0.258000</td>\n",
              "      <td>0.672000</td>\n",
              "      <td>141.978000</td>\n",
              "      <td>2.521330e+05</td>\n",
              "      <td>4.000000</td>\n",
              "    </tr>\n",
              "    <tr>\n",
              "      <th>max</th>\n",
              "      <td>100.000000</td>\n",
              "      <td>0.989000</td>\n",
              "      <td>1.000000</td>\n",
              "      <td>11.000000</td>\n",
              "      <td>3.421000</td>\n",
              "      <td>1.00000</td>\n",
              "      <td>0.960000</td>\n",
              "      <td>0.996000</td>\n",
              "      <td>0.996000</td>\n",
              "      <td>1.000000</td>\n",
              "      <td>0.986000</td>\n",
              "      <td>249.438000</td>\n",
              "      <td>1.561133e+06</td>\n",
              "      <td>5.000000</td>\n",
              "    </tr>\n",
              "  </tbody>\n",
              "</table>\n",
              "</div>"
            ],
            "text/plain": [
              "         Popularity  danceability  ...  duration_in min/ms  time_signature\n",
              "count  25054.000000  25709.000000  ...        2.570900e+04    25709.000000\n",
              "mean      44.648360      0.544836  ...        2.003485e+05        3.922245\n",
              "std       17.420299      0.165872  ...        1.123260e+05        0.364073\n",
              "min        1.000000      0.000000  ...        5.016500e-01        0.000000\n",
              "25%       33.000000      0.434000  ...        1.660920e+05        4.000000\n",
              "50%       44.000000      0.546000  ...        2.090710e+05        4.000000\n",
              "75%       56.000000      0.660000  ...        2.521330e+05        4.000000\n",
              "max      100.000000      0.989000  ...        1.561133e+06        5.000000\n",
              "\n",
              "[8 rows x 14 columns]"
            ]
          },
          "metadata": {},
          "execution_count": 15
        }
      ]
    }
  ]
}